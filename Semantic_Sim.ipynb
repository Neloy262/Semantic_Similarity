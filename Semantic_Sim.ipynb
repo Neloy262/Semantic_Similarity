{
 "cells": [
  {
   "cell_type": "code",
   "execution_count": 21,
   "id": "ceb594f7",
   "metadata": {},
   "outputs": [],
   "source": [
    "from sentence_transformers import SentenceTransformer, util\n",
    "import torch\n",
    "import pandas as pd\n",
    "from sentence_transformers import CrossEncoder\n",
    "import numpy as np"
   ]
  },
  {
   "cell_type": "code",
   "execution_count": 22,
   "id": "4d6e6a5b",
   "metadata": {},
   "outputs": [],
   "source": [
    "embedder = SentenceTransformer('all-mpnet-base-v2')"
   ]
  },
  {
   "cell_type": "code",
   "execution_count": 23,
   "id": "027b0982",
   "metadata": {},
   "outputs": [],
   "source": [
    "corpus = pd.read_csv(\"FAQs.csv\")\n",
    "test_corpus = pd.read_csv(\"FAQs_test.csv\")"
   ]
  },
  {
   "cell_type": "code",
   "execution_count": 24,
   "id": "a6f94e7d",
   "metadata": {},
   "outputs": [],
   "source": [
    "questions = list(corpus[\"Question\"])\n",
    "answers = list(corpus[\"Answer\"])\n",
    "\n",
    "test_questions = list(test_corpus[\"Question\"])"
   ]
  },
  {
   "cell_type": "code",
   "execution_count": 25,
   "id": "5565778b",
   "metadata": {
    "scrolled": true
   },
   "outputs": [
    {
     "data": {
      "text/plain": [
       "['When was Albert Einstein born?',\n",
       " 'Where was he born?',\n",
       " 'When did he die?',\n",
       " 'Who were his parents?',\n",
       " 'Did he have any sisters and brothers?',\n",
       " 'Did he marry and have children?',\n",
       " 'Where did he receive his education?',\n",
       " 'When was Albert Einstein awarded the Nobel Prize in Physics?',\n",
       " 'Did Albert Einstein attend the Nobel Prize Award Ceremony?',\n",
       " 'For what did he receive the Nobel Prize?']"
      ]
     },
     "execution_count": 25,
     "metadata": {},
     "output_type": "execute_result"
    }
   ],
   "source": [
    "questions"
   ]
  },
  {
   "cell_type": "code",
   "execution_count": 26,
   "id": "334d3ede",
   "metadata": {},
   "outputs": [],
   "source": [
    "question_embeddings = embedder.encode(questions, convert_to_tensor=True)\n",
    "question_embeddings = util.normalize_embeddings(question_embeddings)\n",
    "# answer_embeddings = embedder.encode(answers, convert_to_tensor=True)\n",
    "test_embeddings = embedder.encode(test_questions, convert_to_tensor=True)\n",
    "test_embeddings = util.normalize_embeddings(test_embeddings)\n"
   ]
  },
  {
   "cell_type": "code",
   "execution_count": 27,
   "id": "96314cb4",
   "metadata": {},
   "outputs": [],
   "source": [
    "retrieved_candidates = util.semantic_search(test_embeddings,question_embeddings,top_k=5,score_function=util.dot_score)"
   ]
  },
  {
   "cell_type": "code",
   "execution_count": 28,
   "id": "45aaf050",
   "metadata": {},
   "outputs": [
    {
     "name": "stdout",
     "output_type": "stream",
     "text": [
      "Question: What is the date of his death?\n",
      "He died 18 April 1955 in Princeton, New Jersey, USA.\n",
      "##################################\n",
      "Question: Did Einstein have siblings?\n",
      "Albert Einstein was born on 14 March 1879.\n",
      "##################################\n",
      "Question: Who was his wife?\n",
      "He was married to Mileva Marić between 1903 and 1919. They had three children, Lieserl (born 1902), Hans Albert (born 1904) and Eduard (born 1910). He married Elsa Löwenthal in 1919 and they lived together until her death in 1936.\n",
      "##################################\n",
      "Question: What was Einstein's father's name?\n",
      "Albert Einstein was born on 14 March 1879.\n",
      "##################################\n",
      "Question: At what institutions did he study?\n",
      "He received his main education at the following schools: Catholic elementary school in Munich, Germany (1885-1888)Luitpold Gymnasium in Munich, Germany (1888-1894) Cantonal school in Aarau, Switzerland (1895-1896) Swiss Federal Institute of Technology in Zurich, Switzerland (1896-1900) Ph.D. from Zurich University, Switzerland (1905)\n",
      "##################################\n"
     ]
    }
   ],
   "source": [
    "for x,r in enumerate(retrieved_candidates):\n",
    "#     print(r)\n",
    "    print(\"Question:\",test_questions[x])\n",
    "    print(answers[r[0][\"corpus_id\"]],end=\"\\n\")\n",
    "    print(\"##################################\")"
   ]
  },
  {
   "cell_type": "code",
   "execution_count": null,
   "id": "9d9014f3",
   "metadata": {},
   "outputs": [],
   "source": []
  }
 ],
 "metadata": {
  "kernelspec": {
   "display_name": "Python 3 (ipykernel)",
   "language": "python",
   "name": "python3"
  },
  "language_info": {
   "codemirror_mode": {
    "name": "ipython",
    "version": 3
   },
   "file_extension": ".py",
   "mimetype": "text/x-python",
   "name": "python",
   "nbconvert_exporter": "python",
   "pygments_lexer": "ipython3",
   "version": "3.8.15"
  }
 },
 "nbformat": 4,
 "nbformat_minor": 5
}
